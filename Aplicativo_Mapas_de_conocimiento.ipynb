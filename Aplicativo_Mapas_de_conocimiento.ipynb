{
 "cells": [
  {
   "cell_type": "markdown",
   "id": "57171a98-7310-4ecd-abd3-6968304afced",
   "metadata": {},
   "source": [
    "# Bienvenido al ejecutable para mapas de conocimiento\n",
    "\n",
    "El presente ejecutable permite construir el mapa de conocimiento que ofrece una visualización de los temas más relevantes en una área de conocimiento particular. Esta herramienta tiene como insumos:\n",
    "\n",
    "1. **El nombre del área del conocimiento que se quiere investigar:** Esta herramienta obtendrá información relevante de los artículos que se publicaron en la plataforma Arxiv (https://arxiv.org/) relacionados al tema de busqueda.\n",
    "   \n",
    "2. **Fecha inicial:** Permite al usuario seleccionar las fechas de publicación de estos artículos en los que está interesado. La fecha inicial es la fecha del artículo más antiguo en el que esté interesado el usuario.\n",
    "\n",
    "3. **Fecha final:** Es la fecha del artículo más nuevo en el que esté interesado el usuario.\n",
    "\n",
    "4. **Máximo de resultados:** Este insumo permite al usuario filtrar por el número total de artículos a considerar. Por cuestión de recursos y de permisos con la plataforma de Arxiv, se recomienda que este valor no sea superior a los 2000\n",
    "\n",
    "5. **Nombre del mapa:** La salida de este ejecutable, es una imagen .png que contiene el mapa de conocimiento construido y que será guardada en la misma carpeta donde quede instalada esta herramienta en su computador local. Por está razón se pide el nombre del mapa para que quede almacenado."
   ]
  },
  {
   "cell_type": "markdown",
   "id": "3ac03cda-1565-4e7a-b606-edc719a4e3b5",
   "metadata": {},
   "source": [
    "## Librerias fundamentales"
   ]
  },
  {
   "cell_type": "markdown",
   "id": "3c3be6ce-17be-4841-9f74-aba2379fb0b3",
   "metadata": {},
   "source": [
    "La siguiente línea de código solo se ejecutará una vez para que las librerias usadas en el desarrollo de este aplicativo sean compatibles y ejecutables desde cualquier computador"
   ]
  },
  {
   "cell_type": "code",
   "execution_count": null,
   "id": "35be6529-3844-440e-9fd4-37b668d2646a",
   "metadata": {},
   "outputs": [],
   "source": [
    "# Ejecutar esta celda para instalar las librerías si no están instaladas (opcional)\n",
    "# !pip install -r requirements.txt"
   ]
  },
  {
   "cell_type": "markdown",
   "id": "b4ec02f2-7713-4149-8903-24892f300a78",
   "metadata": {},
   "source": [
    "## Ejecutable"
   ]
  },
  {
   "cell_type": "markdown",
   "id": "881c565f-c09d-43d9-b264-eea53cdf9d78",
   "metadata": {},
   "source": [
    "Ejecute la siguiente linea de código, ingrese los valores requeridos y ya podrá consultar su mapa de conocimiento construido:"
   ]
  },
  {
   "cell_type": "code",
   "execution_count": null,
   "id": "8f596ef3-9877-4c6f-9340-83ebbe73de98",
   "metadata": {},
   "outputs": [],
   "source": [
    "from funciones import *\n",
    "warnings.filterwarnings(\"ignore\")\n",
    "# Solicitar datos al usuario\n",
    "query, start_date, end_date, max_results, nombre = user_input()\n",
    "# Ejecutar la búsqueda con los datos del usuario\n",
    "df_papers = get_arxiv_papers_df(query, max_results, start_date, end_date)\n",
    "#Tabla input para construir mapa de conocimiento\n",
    "input_=mapas_conocimiento(df_papers)\n",
    "#Construcción de Mapa de conocimiento\n",
    "mapa(input_, nombre)"
   ]
  }
 ],
 "metadata": {
  "kernelspec": {
   "display_name": "Python 3 (ipykernel)",
   "language": "python",
   "name": "python3"
  },
  "language_info": {
   "codemirror_mode": {
    "name": "ipython",
    "version": 3
   },
   "file_extension": ".py",
   "mimetype": "text/x-python",
   "name": "python",
   "nbconvert_exporter": "python",
   "pygments_lexer": "ipython3",
   "version": "3.8.5"
  }
 },
 "nbformat": 4,
 "nbformat_minor": 5
}
